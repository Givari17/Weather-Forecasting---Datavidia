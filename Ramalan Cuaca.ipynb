{
  "nbformat": 4,
  "nbformat_minor": 0,
  "metadata": {
    "colab": {
      "private_outputs": true,
      "provenance": [],
      "toc_visible": true,
      "authorship_tag": "ABX9TyM+6TF3BV4UisRsgklQszyE",
      "include_colab_link": true
    },
    "kernelspec": {
      "name": "python3",
      "display_name": "Python 3"
    },
    "language_info": {
      "name": "python"
    }
  },
  "cells": [
    {
      "cell_type": "markdown",
      "metadata": {
        "id": "view-in-github",
        "colab_type": "text"
      },
      "source": [
        "<a href=\"https://colab.research.google.com/github/Givari17/Weather-Forecasting---Datavidia/blob/main/Ramalan%20Cuaca.ipynb\" target=\"_parent\"><img src=\"https://colab.research.google.com/assets/colab-badge.svg\" alt=\"Open In Colab\"/></a>"
      ]
    },
    {
      "cell_type": "markdown",
      "source": [
        "# **Data Preprosesing**"
      ],
      "metadata": {
        "id": "oIPPXmARnVZX"
      }
    },
    {
      "cell_type": "code",
      "execution_count": null,
      "metadata": {
        "id": "OpXTastrW92G"
      },
      "outputs": [],
      "source": [
        "import pandas as pd\n",
        "import numpy as np\n",
        "import matplotlib.pyplot as mlp\n",
        "import seaborn as sns\n",
        "from scipy.stats import chi2_contingency\n",
        "from statsmodels.stats.anova import anova_lm\n",
        "from statsmodels.formula.api import ols"
      ]
    },
    {
      "cell_type": "code",
      "source": [
        "df_train = pd.read_csv(\"https://raw.githubusercontent.com/Givari17/Weather-Forecasting---Datavidia/main/train.csv\")\n",
        "df_test = pd.read_csv(\"https://raw.githubusercontent.com/Givari17/Weather-Forecasting---Datavidia/main/test.csv\")\n",
        "df_train_hourly = pd.read_csv('/content/sample_data/train_hourly.csv', sep=';')\n",
        "df_test_hourly = pd.read_csv('https://raw.githubusercontent.com/Givari17/Weather-Forecasting---Datavidia/main/test_hourly.csv')\n"
      ],
      "metadata": {
        "id": "E2c2X1b7Z7zB"
      },
      "execution_count": null,
      "outputs": []
    },
    {
      "cell_type": "code",
      "source": [
        "df_train"
      ],
      "metadata": {
        "id": "3iQ6k6puaPeb"
      },
      "execution_count": null,
      "outputs": []
    },
    {
      "cell_type": "code",
      "source": [
        "df_train_hourly"
      ],
      "metadata": {
        "id": "6sdxLY4_bJtW"
      },
      "execution_count": null,
      "outputs": []
    },
    {
      "cell_type": "markdown",
      "source": [
        "## **Memahami Data**"
      ],
      "metadata": {
        "id": "2p4Lua7wbqaj"
      }
    },
    {
      "cell_type": "code",
      "source": [
        "#memahami data\n",
        "df_train.info()"
      ],
      "metadata": {
        "id": "o-TdUlwLaVZR"
      },
      "execution_count": null,
      "outputs": []
    },
    {
      "cell_type": "code",
      "source": [
        "df_train_hourly.info"
      ],
      "metadata": {
        "id": "2V7J7uK4bOfW"
      },
      "execution_count": null,
      "outputs": []
    },
    {
      "cell_type": "markdown",
      "source": [
        "## **Eliminasi Kolom yang Unik**"
      ],
      "metadata": {
        "id": "hpaUlQ1Qbw4S"
      }
    },
    {
      "cell_type": "code",
      "source": [
        "#Eliminasi Kolom UNIQUE\n",
        "df_train.nunique()"
      ],
      "metadata": {
        "id": "VzNTCR-PaZNQ"
      },
      "execution_count": null,
      "outputs": []
    },
    {
      "cell_type": "code",
      "source": [
        "df_train_hourly.nunique()"
      ],
      "metadata": {
        "id": "sXCqZE72bTUJ"
      },
      "execution_count": null,
      "outputs": []
    },
    {
      "cell_type": "markdown",
      "source": [
        "## **Mengidentifikasi Data yang Hilang**"
      ],
      "metadata": {
        "id": "YumH5koZb7Y8"
      }
    },
    {
      "cell_type": "code",
      "source": [
        "#Identifikasi MISSING DATA\n",
        "df_train.isna().sum()"
      ],
      "metadata": {
        "id": "w8dyd5PpaxbE"
      },
      "execution_count": null,
      "outputs": []
    },
    {
      "cell_type": "code",
      "source": [
        "df_train_hourly.isna().sum()"
      ],
      "metadata": {
        "id": "-tlAILo_bAaC"
      },
      "execution_count": null,
      "outputs": []
    },
    {
      "cell_type": "code",
      "source": [
        "#Mengisi data yang hilang untuk dataset train\n",
        "for i in df_train.columns:\n",
        "    if(df_train[i].dtypes==\"object\"):\n",
        "        x = df_train[i].mode()[0]\n",
        "        df_train[i]=df_train[i].fillna(x)\n",
        "    else:\n",
        "        x = df_train[i].mean()\n",
        "        df_train[i]=df_train[i].fillna(x)\n",
        "\n",
        "df_train.isna().sum()"
      ],
      "metadata": {
        "id": "-4qKE_rfdWl5"
      },
      "execution_count": null,
      "outputs": []
    },
    {
      "cell_type": "code",
      "source": [
        "\n",
        "#Mengisi data yang hilang untuk dataset train lyhour\n",
        "for i in df_train_hourly.columns:\n",
        "    if(df_train_hourly[i].dtypes==\"object\"):\n",
        "        x = df_train_hourly[i].mode()[0]\n",
        "        df_train_hourly[i]=df_train_hourly[i].fillna(x)\n",
        "    else:\n",
        "        x = df_train_hourly[i].mean()\n",
        "        df_train_hourly[i]=df_train_hourly[i].fillna(x)\n",
        "\n",
        "df_train_hourly.isna().sum()"
      ],
      "metadata": {
        "id": "nfRZjJ6yed6l"
      },
      "execution_count": null,
      "outputs": []
    },
    {
      "cell_type": "markdown",
      "source": [
        "## **Menggabungkan Data**"
      ],
      "metadata": {
        "id": "bTZRuyi1cD3u"
      }
    },
    {
      "cell_type": "code",
      "source": [
        "frames = [df_train, df_train_hourly] \n",
        "df = pd.concat(frames).drop_duplicates().reset_index(drop=True)\n",
        "df"
      ],
      "metadata": {
        "id": "eONqFEAjcTab"
      },
      "execution_count": null,
      "outputs": []
    },
    {
      "cell_type": "code",
      "source": [
        "df.isna().sum()"
      ],
      "metadata": {
        "id": "JREU7ooieo9v"
      },
      "execution_count": null,
      "outputs": []
    },
    {
      "cell_type": "code",
      "source": [
        "#Mengisi data yang hilang untuk dataset GABUNGAN\n",
        "for i in df.columns:\n",
        "    if(df[i].dtypes==\"object\"):\n",
        "        x = df[i].mode()[0]\n",
        "        df[i]=df[i].fillna(x)\n",
        "    else:\n",
        "        x = df[i].mean()\n",
        "        df[i]=df[i].fillna(x)\n",
        "\n",
        "df.isna().sum()"
      ],
      "metadata": {
        "id": "TQr7Mbx1cUeP"
      },
      "execution_count": null,
      "outputs": []
    },
    {
      "cell_type": "markdown",
      "source": [
        "# **Explorasi Data Analysis**"
      ],
      "metadata": {
        "id": "cx4ErCrMoSGI"
      }
    },
    {
      "cell_type": "markdown",
      "source": [
        "## **Pemisahan Data Kategori dan Kontinu**"
      ],
      "metadata": {
        "id": "WjxRZqK7fkr_"
      }
    },
    {
      "cell_type": "code",
      "source": [
        "cat = []\n",
        "con = []\n",
        "\n",
        "for i in df.columns:\n",
        "    if(df[i].dtypes==\"object\"):\n",
        "        cat.append(i)\n",
        "    elif(df[i].dtypes==\"bool\"):\n",
        "        cat.append(i)\n",
        "    else:\n",
        "        con.append(i)"
      ],
      "metadata": {
        "id": "NK8R_EFpfUD4"
      },
      "execution_count": null,
      "outputs": []
    },
    {
      "cell_type": "code",
      "source": [
        "#Data Kategori\n",
        "cat"
      ],
      "metadata": {
        "id": "oR-YUWCMffVG"
      },
      "execution_count": null,
      "outputs": []
    },
    {
      "cell_type": "code",
      "source": [
        "#Data Kontinu\n",
        "con"
      ],
      "metadata": {
        "id": "dva2jW1zf04a"
      },
      "execution_count": null,
      "outputs": []
    },
    {
      "cell_type": "markdown",
      "source": [
        "## **Uji Skewness dan Kurtosis**"
      ],
      "metadata": {
        "id": "oviHx7ajo4ZI"
      }
    },
    {
      "cell_type": "code",
      "source": [
        "import seaborn as sb\n",
        "mlp.figure(figsize=(20,15))\n",
        "x = 1\n",
        "\n",
        "for i in con:\n",
        "    mlp.subplot(10,5,x)\n",
        "    sb.distplot(df[i])\n",
        "    x = x + 1"
      ],
      "metadata": {
        "id": "og6RRVFEmyGQ"
      },
      "execution_count": null,
      "outputs": []
    },
    {
      "cell_type": "code",
      "source": [
        "df.skew()"
      ],
      "metadata": {
        "id": "pEXCMaDf2o2E"
      },
      "execution_count": null,
      "outputs": []
    },
    {
      "cell_type": "code",
      "source": [
        "df.var()"
      ],
      "metadata": {
        "id": "FzaRoghBFFIb"
      },
      "execution_count": null,
      "outputs": []
    },
    {
      "cell_type": "markdown",
      "source": [
        "## **Uji Korelasi (Bivariate)**"
      ],
      "metadata": {
        "id": "n8OjWO5UghZL"
      }
    },
    {
      "cell_type": "code",
      "source": [
        "raw_cor = df.corr()\n",
        "raw_cor"
      ],
      "metadata": {
        "id": "jWZIcZzAhwNA"
      },
      "execution_count": null,
      "outputs": []
    },
    {
      "cell_type": "code",
      "source": [
        "raw_cor > 0.0001"
      ],
      "metadata": {
        "id": "oFAvRcYuiWC4"
      },
      "execution_count": null,
      "outputs": []
    },
    {
      "cell_type": "code",
      "source": [
        "sns.heatmap(df.corr(), cmap=\"YlGnBu\", annot=False);"
      ],
      "metadata": {
        "id": "tQeidJa3pdP9"
      },
      "execution_count": null,
      "outputs": []
    },
    {
      "cell_type": "markdown",
      "source": [
        "## **Uji Anova Satu Arah (Analisis Univariate)**"
      ],
      "metadata": {
        "id": "LiiF7wXmEQP6"
      }
    },
    {
      "cell_type": "code",
      "source": [
        "import matplotlib.pyplot as plt\n",
        "df_melt = pd.melt(df.reset_index(), id_vars=['index'], value_vars=['temperature_2m_max (°C)',\n",
        " 'temperature_2m_min (°C)',\n",
        " 'apparent_temperature_max (°C)',\n",
        " 'apparent_temperature_min (°C)','windgusts_10m_max (km/h)',\n",
        " 'winddirection_10m_dominant (°)','elevation',])\n",
        "\n",
        "df_melt.columns = ['index', 'treatments', 'value']\n"
      ],
      "metadata": {
        "id": "ZSjHeekXAgkz"
      },
      "execution_count": null,
      "outputs": []
    },
    {
      "cell_type": "code",
      "source": [
        "ax = sns.boxplot(x='treatments', y='value', data=df_melt, color='#99c2a2')\n",
        "plt.show()"
      ],
      "metadata": {
        "id": "NsBaLG3xBpus"
      },
      "execution_count": null,
      "outputs": []
    },
    {
      "cell_type": "code",
      "source": [
        "# stats f_oneway functions mengambil grup sebagai input dan mengembalikan nilai ANOVA F dan p\n",
        "import scipy.stats as stats\n",
        "fvalue, pvalue = stats.f_oneway(df['temperature_2m_max (°C)'], \n",
        "                                df['temperature_2m_min (°C)'], \n",
        "                                df['apparent_temperature_max (°C)'], \n",
        "                                df['apparent_temperature_min (°C)'], \n",
        "                                df['windgusts_10m_max (km/h)'], \n",
        "                                df['winddirection_10m_dominant (°)'],\n",
        "                                df['elevation'])\n",
        "print(fvalue)\n",
        "print(pvalue)\n",
        "\n"
      ],
      "metadata": {
        "id": "KnO7Z4iGB1vy"
      },
      "execution_count": null,
      "outputs": []
    },
    {
      "cell_type": "code",
      "source": [
        "pvalue < 0.05"
      ],
      "metadata": {
        "id": "NrUBiml2Eg_g"
      },
      "execution_count": null,
      "outputs": []
    },
    {
      "cell_type": "markdown",
      "source": [
        "## **Feature Selection Menggunakan Chi Square**"
      ],
      "metadata": {
        "id": "RYxbT5owpFKM"
      }
    },
    {
      "cell_type": "code",
      "source": [
        "df"
      ],
      "metadata": {
        "id": "liGdfnmfFP_d"
      },
      "execution_count": null,
      "outputs": []
    }
  ]
}